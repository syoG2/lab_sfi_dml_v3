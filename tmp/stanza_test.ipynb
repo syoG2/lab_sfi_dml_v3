{
 "cells": [
  {
   "cell_type": "code",
   "execution_count": null,
   "metadata": {},
   "outputs": [],
   "source": [
    "import stanza\n",
    "\n",
    "nlp = stanza.Pipeline(\n",
    "        \"en\",\n",
    "        processors=\"tokenize,mwt,pos,lemma,depparse\",\n",
    "        use_gpu=True,\n",
    "    )\n",
    "\n",
    "\n",
    "doc = nlp(\"Rather , I would define the crime as intimidating citizens from exercising their civil rights -- which refers to behavior rather than thought or emotion -- and require evidence of intent and premeditation . \")\n",
    "print(doc)"
   ]
  }
 ],
 "metadata": {
  "kernelspec": {
   "display_name": ".venv",
   "language": "python",
   "name": "python3"
  },
  "language_info": {
   "codemirror_mode": {
    "name": "ipython",
    "version": 3
   },
   "file_extension": ".py",
   "mimetype": "text/x-python",
   "name": "python",
   "nbconvert_exporter": "python",
   "pygments_lexer": "ipython3",
   "version": "3.11.10"
  }
 },
 "nbformat": 4,
 "nbformat_minor": 2
}
