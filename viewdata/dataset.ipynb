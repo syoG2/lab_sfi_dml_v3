{
 "cells": [
  {
   "cell_type": "code",
   "execution_count": 5,
   "metadata": {},
   "outputs": [],
   "source": [
    "import sys\n"
   ]
  },
  {
   "cell_type": "code",
   "execution_count": 6,
   "metadata": {},
   "outputs": [],
   "source": [
    "import pandas as pd\n",
    "from pathlib import Path\n",
    "\n",
    "result = []\n",
    "for part in [\"all_3_0\", \"all_3_1\", \"all_3_2\"]:\n",
    "\n",
    "    input_file = Path(f\"../data/verb_clustering_c4/dataset/{part}/exemplars_test.jsonl\")\n",
    "    df = pd.read_json(input_file, lines=True)\n",
    "\n",
    "\n",
    "    for lu_name, count in df[\"lu_name\"].value_counts().items():\n",
    "        df_framenet = df[(df[\"lu_name\"] == lu_name) & (df[\"source\"] == \"framenet\")]\n",
    "        df_c4 = df[(df[\"lu_name\"] == lu_name) & (df[\"source\"] == \"c4\")]\n",
    "        if len(df_framenet) != len(df_c4):\n",
    "            result.append((lu_name, len(df_framenet), len(df_c4)))\n",
    "\n",
    "result = sorted(result, key=lambda x: x[1], reverse=True)\n",
    "for r in result:\n",
    "    print(f\"{r[0].ljust(20)}: {r[1]:5d} {r[2]:5d}\")"
   ]
  }
 ],
 "metadata": {
  "kernelspec": {
   "display_name": ".venv",
   "language": "python",
   "name": "python3"
  },
  "language_info": {
   "codemirror_mode": {
    "name": "ipython",
    "version": 3
   },
   "file_extension": ".py",
   "mimetype": "text/x-python",
   "name": "python",
   "nbconvert_exporter": "python",
   "pygments_lexer": "ipython3",
   "version": "3.11.10"
  }
 },
 "nbformat": 4,
 "nbformat_minor": 2
}
