{
 "cells": [
  {
   "cell_type": "code",
   "execution_count": 1,
   "id": "6514514a",
   "metadata": {},
   "outputs": [
    {
     "name": "stderr",
     "output_type": "stream",
     "text": [
      "/tmp/ipykernel_3115706/4058531919.py:5: FutureWarning: You are using `torch.load` with `weights_only=False` (the current default value), which uses the default pickle module implicitly. It is possible to construct malicious pickle data which will execute arbitrary code during unpickling (See https://github.com/pytorch/pytorch/blob/main/SECURITY.md#untrusted-models for more details). In a future release, the default value for `weights_only` will be flipped to `True`. This limits the functions that could be executed during unpickling. Arbitrary objects will no longer be allowed to be loaded via this mode unless they are explicitly allowlisted by the user via `torch.serialization.add_safe_globals`. We recommend you start setting `weights_only=True` for any use case where you don't have full control of the loaded file. Please open an issue on GitHub for any issues related to this experimental feature.\n",
      "  state_dict1 = torch.load(path1, map_location=\"cpu\")\n",
      "/tmp/ipykernel_3115706/4058531919.py:6: FutureWarning: You are using `torch.load` with `weights_only=False` (the current default value), which uses the default pickle module implicitly. It is possible to construct malicious pickle data which will execute arbitrary code during unpickling (See https://github.com/pytorch/pytorch/blob/main/SECURITY.md#untrusted-models for more details). In a future release, the default value for `weights_only` will be flipped to `True`. This limits the functions that could be executed during unpickling. Arbitrary objects will no longer be allowed to be loaded via this mode unless they are explicitly allowlisted by the user via `torch.serialization.add_safe_globals`. We recommend you start setting `weights_only=True` for any use case where you don't have full control of the loaded file. Please open an issue on GitHub for any issues related to this experimental feature.\n",
      "  state_dict2 = torch.load(path2, map_location=\"cpu\")\n"
     ]
    },
    {
     "name": "stdout",
     "output_type": "stream",
     "text": [
      "embeddings.word_embeddings.weight\n",
      "Mismatch in parameter: embeddings.word_embeddings.weight\n"
     ]
    },
    {
     "data": {
      "text/plain": [
       "False"
      ]
     },
     "execution_count": 1,
     "metadata": {},
     "output_type": "execute_result"
    }
   ],
   "source": [
    "import torch\n",
    "from pathlib import Path\n",
    "\n",
    "def compare_model_files(path1, path2):\n",
    "    state_dict1 = torch.load(path1, map_location=\"cpu\")\n",
    "    state_dict2 = torch.load(path2, map_location=\"cpu\")\n",
    "\n",
    "    for key in state_dict1:\n",
    "        print(key)\n",
    "        if key not in state_dict2:\n",
    "            print(f\"Missing key in second model: {key}\")\n",
    "            return False\n",
    "        if not torch.equal(state_dict1[key], state_dict2[key]):\n",
    "            print(f\"Mismatch in parameter: {key}\")\n",
    "            return False\n",
    "    print(\"All parameters match exactly.\")\n",
    "    return True\n",
    "\n",
    "# 実行\n",
    "compare_model_files(\n",
    "    Path(\"/home/tsuji/lab_sfi_dml_v3/data/verb_clustering_c4/train_model/original/all_3_0/bert-base-uncased/adacos_classification/word/00/pretrained_model_last.pth\"),\n",
    "    Path(\"/home/tsuji/lab_sfi_dml_v3/data/verb_clustering_c4/train_model_tmp2/original/all_3_0/bert-base-uncased/adacos_classification/word/00/pretrained_model_last.pth\")\n",
    ")"
   ]
  }
 ],
 "metadata": {
  "kernelspec": {
   "display_name": "sfi-dml",
   "language": "python",
   "name": "python3"
  },
  "language_info": {
   "codemirror_mode": {
    "name": "ipython",
    "version": 3
   },
   "file_extension": ".py",
   "mimetype": "text/x-python",
   "name": "python",
   "nbconvert_exporter": "python",
   "pygments_lexer": "ipython3",
   "version": "3.11.10"
  }
 },
 "nbformat": 4,
 "nbformat_minor": 5
}
