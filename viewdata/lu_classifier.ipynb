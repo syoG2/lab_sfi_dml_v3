{
 "cells": [
  {
   "cell_type": "code",
   "execution_count": 3,
   "metadata": {},
   "outputs": [
    {
     "name": "stdout",
     "output_type": "stream",
     "text": [
      "{\"lu_size\":1,\"acc\":0.9918817783979197,\"correct\":15639,\"size\":15767,\"sep_acc\":-1.0,\"sep_correct\":0,\"sep_size\":0}\n",
      "\n",
      "{\"lu_size\":2,\"acc\":0.4308755760368664,\"correct\":187,\"size\":434,\"sep_acc\":0.5,\"sep_correct\":22,\"sep_size\":44}\n",
      "\n",
      "{\"lu_size\":3,\"acc\":0.0,\"correct\":0,\"size\":43,\"sep_acc\":0.0,\"sep_correct\":0,\"sep_size\":16}\n",
      "\n",
      "{\"lu_size\":4,\"acc\":0.0,\"correct\":0,\"size\":1,\"sep_acc\":-1.0,\"sep_correct\":0,\"sep_size\":0}\n",
      "\n",
      "{\"lu_size\":5,\"acc\":0.0,\"correct\":0,\"size\":2,\"sep_acc\":-1.0,\"sep_correct\":0,\"sep_size\":0}\n",
      "\n"
     ]
    }
   ],
   "source": [
    "# LU抽出モデルのスコアを確認する\n",
    "from pathlib import Path\n",
    "import pandas as pd\n",
    "\n",
    "pd.set_option('display.max_rows', None)\n",
    "pd.set_option('display.width', 1000)\n",
    "\n",
    "text_input_styles = [\"sep\", \"token0\", \"token00\"]\n",
    "\n",
    "text_input_style = text_input_styles[0]\n",
    "division_methods = [\"distinct\", \"random\"]\n",
    "division_method = division_methods[0]\n",
    "parts = [\"5_0\", \"5_1\", \"5_2\", \"5_3\", \"5_4\"]\n",
    "part = parts[0]\n",
    "\n",
    "# [ ]:スコアを表にまとめる\n",
    "input_file = Path(f\"../data/preprocessing/lu_classifier/models/bert-base-uncased/{text_input_style}/{division_method}/{part}/score.jsonl\")\n",
    "with open(input_file, \"r\") as f:\n",
    "    lines = f.readlines()\n",
    "    for line in lines:\n",
    "        print(line)"
   ]
  }
 ],
 "metadata": {
  "kernelspec": {
   "display_name": ".venv",
   "language": "python",
   "name": "python3"
  },
  "language_info": {
   "codemirror_mode": {
    "name": "ipython",
    "version": 3
   },
   "file_extension": ".py",
   "mimetype": "text/x-python",
   "name": "python",
   "nbconvert_exporter": "python",
   "pygments_lexer": "ipython3",
   "version": "3.11.10"
  }
 },
 "nbformat": 4,
 "nbformat_minor": 2
}
