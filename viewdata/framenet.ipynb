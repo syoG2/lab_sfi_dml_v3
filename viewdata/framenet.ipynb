{
 "cells": [
  {
   "cell_type": "code",
   "execution_count": 9,
   "metadata": {},
   "outputs": [
    {
     "name": "stdout",
     "output_type": "stream",
     "text": [
      "81270\n",
      "78864\n",
      "2465\n",
      "lu_name\n",
      "say.v     381\n",
      "tell.v    333\n",
      "use.v     281\n",
      "Name: count, dtype: int64\n",
      "2261\n",
      "157\n",
      "lu_name\n",
      "take place.v    123\n",
      "there be.v      120\n",
      "had better.v     80\n",
      "Name: count, dtype: int64\n",
      "131\n",
      "10\n",
      "lu_name\n",
      "take to task.v    25\n",
      "do the trick.v    22\n",
      "set on fire.v     20\n",
      "Name: count, dtype: int64\n",
      "12\n",
      "4\n",
      "lu_name\n",
      "nip in the bud.v    8\n",
      "come to a end.v     2\n",
      "put an end to.v     1\n",
      "Name: count, dtype: int64\n",
      "2\n",
      "1\n",
      "lu_name\n",
      "fly in the face of.v    2\n",
      "Name: count, dtype: int64\n"
     ]
    }
   ],
   "source": [
    "# FrameNetのデータの前処理でのデータ数の変化を確認する\n",
    "from pathlib import Path\n",
    "import pandas as pd\n",
    "import re\n",
    "\n",
    "pd.set_option('display.max_rows', None)\n",
    "pd.set_option('display.width', 1000)\n",
    "pd.set_option('display.max_colwidth', 1000)\n",
    "\n",
    "input_file = Path(\"../data/preprocessing/framenet/preprocess/exemplars.jsonl\")\n",
    "\n",
    "# 前処理前のFrameNetのデータを読み込む\n",
    "df = pd.read_json(input_file, lines=True)\n",
    "print(len(df))\n",
    "\n",
    "for i in range(1,6):\n",
    "    lu = df[df[\"lu_name\"].apply(lambda x: len(x.split())) == i]\n",
    "    # lu = lu[[\"lu_name\", \"frame\", \"exemplar\"]]\n",
    "    print(len(lu))\n",
    "    value_counts = lu[\"lu_name\"].value_counts()\n",
    "    print(len(value_counts))\n",
    "    print(value_counts.head(3))\n"
   ]
  }
 ],
 "metadata": {
  "kernelspec": {
   "display_name": ".venv",
   "language": "python",
   "name": "python3"
  },
  "language_info": {
   "codemirror_mode": {
    "name": "ipython",
    "version": 3
   },
   "file_extension": ".py",
   "mimetype": "text/x-python",
   "name": "python",
   "nbconvert_exporter": "python",
   "pygments_lexer": "ipython3",
   "version": "3.11.10"
  }
 },
 "nbformat": 4,
 "nbformat_minor": 2
}
